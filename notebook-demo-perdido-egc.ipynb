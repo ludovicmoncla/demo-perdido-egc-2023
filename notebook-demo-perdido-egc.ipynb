{
 "cells": [
  {
   "attachments": {},
   "cell_type": "markdown",
   "metadata": {
    "colab_type": "text",
    "id": "YrOKr9pwkxJw"
   },
   "source": [
    "<img src=\"https://egc2023.sciencesconf.org/data/pages/logo_2.jpg\" alt=\"EGC 2023\" width=\"200px\"/>\n",
    "\n",
    "\n",
    "# Démonstration - Perdido Geoparser - EGC 2023 \n",
    "\n",
    "Cette démonstration présente la librairie Python [Perdido](https://github.com/ludovicmoncla/perdido) pour le geoparsing et le geocoding de textes en français. \n",
    "\n",
    "\n",
    "**Auteurs** : [Ludovic Moncla](https://ludovicmoncla.github.io) (Univ Lyon, INSA Lyon, CNRS, UCBL, LIRIS, UMR 5205, F-69621)\n",
    "[Mauro Gaio](https://lma-umr5142.univ-pau.fr/fr/organisation/membres/cv_-mgaio-fr.html) (Université de Pau et des Pays de l'Adour, CNRS, LMAP, UMR 5142)\n",
    "\n",
    "## 1. En bref\n",
    "\n",
    "\n",
    "Dans cette démonstration, nous allons voir comment :\n",
    "\n",
    "- Utiliser la librarie [Perdido](https://github.com/ludovicmoncla/perdido) pour le geoparsing et le geocoding :\n",
    "  - afficher les entités nommées annotées ;\n",
    "  - cartographier les lieux geocodés ;\n",
    "  - illustrer la problématique de désambiguïsation des toponymes.\n",
    "  - enregistrer les résultats dans différents formats (csv, dataframe, ...)"
   ]
  },
  {
   "cell_type": "markdown",
   "metadata": {},
   "source": [
    "## 2. Configurer l'environnement\n"
   ]
  },
  {
   "attachments": {},
   "cell_type": "markdown",
   "metadata": {},
   "source": [
    "* Si vous avez déjà configuré votre environnement, soit avec conda, soit avec pip (voir le fichier [README.md](https://gitlab.liris.cnrs.fr/lmoncla/tutoriel-anf-tdm-2022-python-geoparsing/-/blob/main/README.md)), vous pouvez ignorer la section suivante et passer directement à la 3.\n",
    "* Si vous exécutez ce notebook depuis Google Colab, vous devez exécuter la cellule suivante :"
   ]
  },
  {
   "cell_type": "code",
   "execution_count": null,
   "metadata": {},
   "outputs": [],
   "source": [
    "! pip install perdido==0.1.34\n",
    "! pip install display-xml==0.1.0"
   ]
  },
  {
   "cell_type": "code",
   "execution_count": null,
   "metadata": {},
   "outputs": [],
   "source": [
    "import warnings\n",
    "warnings.filterwarnings('ignore')"
   ]
  },
  {
   "attachments": {},
   "cell_type": "markdown",
   "metadata": {},
   "source": [
    "## 3. Perdido Geoparser\n",
    "\n",
    "`Perdido` est une librairie Python pour le geoparsing de texte en français. Le geoparsing se décompose en deux tâches : le **geotagging** et le **geocoding**. \n",
    "\n",
    "Le geotagging est similaire à la tâche de **reconnaissance des entités nommées** avec un focus particulier pour le repérage d'information spatiale. En plus des entités nommées, nous nous intéressons en particuliers aux relations entres ces entités telles que les relations spatiales (distances, topologie, orientation, etc.).\n",
    "\n",
    "Le geocoding (ou résolution de toponymes) a pour rôle d'attribuer aux entités de lieux des coordonnées géographiques.\n",
    "`Perdido` s'appuie sur une approche hybride principalement construite à base de règles pour la repérage et la classification des entités nommées. La librairie est disponible en 2 versions : une version standard et une version spécialement adaptée pour les articles encyclopédiques.\n",
    "\n",
    "Dans cette partie nous allons voir comment utiliser `Perdido` pour le geoparsing."
   ]
  },
  {
   "attachments": {},
   "cell_type": "markdown",
   "metadata": {},
   "source": [
    "### 3.1 Importer la librairie"
   ]
  },
  {
   "cell_type": "code",
   "execution_count": null,
   "metadata": {},
   "outputs": [],
   "source": [
    "from perdido.geoparser import Geoparser"
   ]
  },
  {
   "attachments": {},
   "cell_type": "markdown",
   "metadata": {},
   "source": [
    "### 3.2 Executer le geoparser"
   ]
  },
  {
   "cell_type": "code",
   "execution_count": null,
   "metadata": {},
   "outputs": [],
   "source": [
    "text = \"J'aimerais vous proposer un rendez-vous, dans un lieu tenu secret à Lyon, \"\n",
    "text += \"proche de la place Bellecour, de la place des Célestins, \"\n",
    "text += \"au sud de la fontaine des Jacobins et près du pont Bonaparte.\""
   ]
  },
  {
   "cell_type": "code",
   "execution_count": null,
   "metadata": {},
   "outputs": [],
   "source": [
    "geoparser = Geoparser()\n",
    "doc = geoparser(text)"
   ]
  },
  {
   "attachments": {},
   "cell_type": "markdown",
   "metadata": {},
   "source": [
    "### 3.3 Visualiser les résultats"
   ]
  },
  {
   "attachments": {},
   "cell_type": "markdown",
   "metadata": {},
   "source": [
    "* Visualiser les attributs des tokens :"
   ]
  },
  {
   "cell_type": "code",
   "execution_count": null,
   "metadata": {},
   "outputs": [],
   "source": [
    "for token in doc:\n",
    "    print(f'{token.text}\\tlemma: {token.lemma}\\tpos: {token.pos}')"
   ]
  },
  {
   "attachments": {},
   "cell_type": "markdown",
   "metadata": {},
   "source": [
    "* Format IOB :"
   ]
  },
  {
   "cell_type": "code",
   "execution_count": null,
   "metadata": {},
   "outputs": [],
   "source": [
    "for token in doc:\n",
    "    print(token.iob_format())"
   ]
  },
  {
   "attachments": {},
   "cell_type": "markdown",
   "metadata": {},
   "source": [
    "* Format IOB-TSV :"
   ]
  },
  {
   "cell_type": "code",
   "execution_count": null,
   "metadata": {},
   "outputs": [],
   "source": [
    "for token in doc:\n",
    "    print(token.tsv_format())"
   ]
  },
  {
   "attachments": {},
   "cell_type": "markdown",
   "metadata": {},
   "source": [
    "* Afficher la sortie XML-TEI. Voir la référence ci-après pour une description du schéma de balisage :\n",
    "\n",
    "> Moncla, L., & Gaio, M. (2015). A multi-layer markup language for geospatial semantic annotations. Proceedings of the 9th Workshop on Geographic Information Retrieval, 1–10. Paris, France. [https://doi.org/10.1145/2837689.2837700](https://doi.org/10.1145/2837689.2837700)"
   ]
  },
  {
   "cell_type": "code",
   "execution_count": null,
   "metadata": {},
   "outputs": [],
   "source": [
    "print(doc.tei)"
   ]
  },
  {
   "attachments": {},
   "cell_type": "markdown",
   "metadata": {},
   "source": [
    "* Utilisation de la librairie [display_xml](https://github.com/mpacer/display_xml) pour affichage du XML avec coloration syntaxique :"
   ]
  },
  {
   "cell_type": "code",
   "execution_count": null,
   "metadata": {},
   "outputs": [],
   "source": [
    "from display_xml import XML\n",
    "XML(doc.tei, style='lovelace')"
   ]
  },
  {
   "attachments": {},
   "cell_type": "markdown",
   "metadata": {},
   "source": [
    "* Afficher la sortie GeoJSON :"
   ]
  },
  {
   "cell_type": "code",
   "execution_count": null,
   "metadata": {},
   "outputs": [],
   "source": [
    "doc.geojson"
   ]
  },
  {
   "attachments": {},
   "cell_type": "markdown",
   "metadata": {},
   "source": [
    "* Afficher la liste des entités nommées :"
   ]
  },
  {
   "cell_type": "code",
   "execution_count": null,
   "metadata": {},
   "outputs": [],
   "source": [
    "for entity in doc.named_entities:\n",
    "    print(f'entity: {entity.text}\\ttag: {entity.tag}')\n",
    "    if entity.tag == 'place':\n",
    "        for t in entity.toponym_candidates:\n",
    "            print(f' latitude: {t.lat}\\tlongitude: {t.lng}\\tsource {t.source}')"
   ]
  },
  {
   "attachments": {},
   "cell_type": "markdown",
   "metadata": {},
   "source": [
    "* Afficher la liste des entités nommées étendues :"
   ]
  },
  {
   "cell_type": "code",
   "execution_count": null,
   "metadata": {},
   "outputs": [],
   "source": [
    "for nested_entity in doc.nested_named_entities:\n",
    "    print(f'entity: {nested_entity.text}\\ttag: {nested_entity.tag}')\n",
    "    if nested_entity.tag == 'place':\n",
    "        for t in nested_entity.toponym_candidates:\n",
    "            print(f' latitude: {t.lat}\\tlongitude: {t.lng}\\tsource {t.source}')\n"
   ]
  },
  {
   "attachments": {},
   "cell_type": "markdown",
   "metadata": {},
   "source": [
    "* Affichage graphique des résultats avec la librairie [spacy](https://spacy.io/usage/visualizers) :"
   ]
  },
  {
   "cell_type": "code",
   "execution_count": null,
   "metadata": {},
   "outputs": [],
   "source": [
    "from spacy import displacy\n",
    "\n",
    "displacy.render(doc.to_spacy_doc(), style=\"ent\", jupyter=True)"
   ]
  },
  {
   "cell_type": "code",
   "execution_count": null,
   "metadata": {},
   "outputs": [],
   "source": [
    "displacy.render(doc.to_spacy_doc(), style=\"span\", jupyter=True)"
   ]
  },
  {
   "attachments": {},
   "cell_type": "markdown",
   "metadata": {},
   "source": [
    "### 3.4 Exporter les résultats"
   ]
  },
  {
   "attachments": {},
   "cell_type": "markdown",
   "metadata": {},
   "source": [
    "* Enregistrer les résultats au format XML-TEI :"
   ]
  },
  {
   "cell_type": "code",
   "execution_count": null,
   "metadata": {},
   "outputs": [],
   "source": [
    "doc.to_xml('filename.xml')"
   ]
  },
  {
   "attachments": {},
   "cell_type": "markdown",
   "metadata": {},
   "source": [
    "* Enregistrer les résultats au format GeoJSON :"
   ]
  },
  {
   "cell_type": "code",
   "execution_count": null,
   "metadata": {},
   "outputs": [],
   "source": [
    "doc.to_geojson('filename.geojson')"
   ]
  },
  {
   "attachments": {},
   "cell_type": "markdown",
   "metadata": {},
   "source": [
    "* Enregistrer les résultats au format IOB-TSV :"
   ]
  },
  {
   "cell_type": "code",
   "execution_count": null,
   "metadata": {},
   "outputs": [],
   "source": [
    "doc.to_iob('filename.tsv')"
   ]
  },
  {
   "attachments": {},
   "cell_type": "markdown",
   "metadata": {},
   "source": [
    "* Enregistrer les résultats au format CSV :"
   ]
  },
  {
   "cell_type": "code",
   "execution_count": null,
   "metadata": {},
   "outputs": [],
   "source": [
    "doc.to_csv('filename.csv')"
   ]
  },
  {
   "attachments": {},
   "cell_type": "markdown",
   "metadata": {},
   "source": [
    "### 3.5 Paramétrage\n",
    "\n",
    "La librairie est disponible en 2 versions : une version `Standard` et une version `Encyclopedie` spécialement adaptée pour les articles encyclopédiques. L'étape de géocoding est fortement paramétrable, en particulier afin de filtrer les résultats provenants des ressources géographiques (dans le but de limiter les ambiguïtés)."
   ]
  },
  {
   "attachments": {},
   "cell_type": "markdown",
   "metadata": {},
   "source": [
    "#### 3.5.1 Paramétrage du geotagging"
   ]
  },
  {
   "attachments": {},
   "cell_type": "markdown",
   "metadata": {},
   "source": [
    "* Paramétrer la version des règles d'annotation utilisée pour la reconnaissance des entités nommées :\n",
    "\n",
    "    * `Standard` (par défaut): règles développées initialement pour le traitement de descriptions de randonnées\n",
    "    * `Encyclopedie` : règles adaptées pour le traitement d'article encyclopédique"
   ]
  },
  {
   "cell_type": "code",
   "execution_count": null,
   "metadata": {},
   "outputs": [],
   "source": [
    "text = \"ARQUES, (Géog.) petite ville de France, en Normandie, \"\n",
    "text += \"au pays de Caux, sur la petite riviere d'Arques. Long. 18. 50. lat. 49. 54.\"\n",
    "\n",
    "geoparser = Geoparser(version=\"Encyclopedie\")\n",
    "doc = geoparser(text)\n",
    "\n",
    "displacy.render(doc.to_spacy_doc(), style=\"ent\", jupyter=True)\n",
    "displacy.render(doc.to_spacy_doc(), style=\"span\", jupyter=True)"
   ]
  },
  {
   "attachments": {},
   "cell_type": "markdown",
   "metadata": {},
   "source": [
    "#### 3.5.2 Paramétrage du geocoding"
   ]
  },
  {
   "attachments": {},
   "cell_type": "markdown",
   "metadata": {},
   "source": [
    "* Pour les exemples suivants nous allons utiliser un extrait d'une description de randonnée :"
   ]
  },
  {
   "cell_type": "code",
   "execution_count": null,
   "metadata": {},
   "outputs": [],
   "source": [
    "text  =  \"Départ du refuge d'Entre le Lac près du lac de la Plagne.\"\n",
    "text += \" Du refuge Entre le Lac, un sentier remonte les pentes herbeuses et permet de rejoindre le GR5 un peu avant le chalet de la Grassaz (chalet du berger 2335m).\"\n",
    "text += \" Toujours en direction du sud , on remonte le vallon en longeant le ruisseau.\" \n",
    "text += \" On parvient ainsi à l'extrémité ouest du lac de Grattaleu ; un peu plus haut, on atteint le refuge du col du Palet (2550m).\"\n",
    "text += \" On admire la beauté de la vallée et le sommet de Bellecote recouvert de glaciers\""
   ]
  },
  {
   "attachments": {},
   "cell_type": "markdown",
   "metadata": {},
   "source": [
    "* On utilisera également la trace GPS pour l'afficher sur la carte et pouvoir comparer avec les lieux géocodés :"
   ]
  },
  {
   "cell_type": "code",
   "execution_count": null,
   "metadata": {},
   "outputs": [],
   "source": [
    "import shapely.wkt\n",
    "\n",
    "# Créer l'objet géométrie à partir d'un string\n",
    "gpx_geom = shapely.wkt.loads(\"MULTILINESTRING ((6.839184 45.480323, 6.83987 45.479299, 6.841973 45.478562, 6.843969 45.47857, 6.845235 45.479931, 6.847187 45.479675, 6.847766 45.480112, 6.848368 45.479932, 6.849569 45.480172, 6.850213 45.479029, 6.850685 45.477254, 6.8509 45.476306, 6.851114 45.474425, 6.851758 45.472889, 6.853217 45.471626, 6.855106 45.46982, 6.855534 45.468766, 6.855191 45.468014, 6.85605 45.46684, 6.856092 45.464914, 6.856049 45.463891, 6.855663 45.462356, 6.856093 45.461679, 6.856822 45.46137, 6.857122 45.460038, 6.857166 45.458864, 6.857724 45.458021, 6.858754 45.457765, 6.859698 45.458503, 6.860513 45.458097, 6.861564 45.458676, 6.861575 45.457732, 6.860641 45.456396, 6.864246 45.456245, 6.865748 45.455944, 6.867508 45.455763, 6.869139 45.455884, 6.870942 45.456034, 6.875319 45.454649, 6.879224 45.455432, 6.881391 45.454996, 6.883816 45.455463, 6.886091 45.455613, 6.887936 45.456004, 6.890725 45.457841, 6.890789 45.45608, 6.891379 45.454687, 6.892742 45.454379, 6.894287 45.453084, 6.896261 45.45191, 6.896733 45.452663, 6.898192 45.452602, 6.899759 45.453009, 6.90184 45.452392, 6.902398 45.451308, 6.903771 45.450827, 6.905102 45.450525, 6.906303 45.451308, 6.909179 45.449742, 6.911582 45.448568, 6.913986 45.447755, 6.916839 45.44619, 6.917944 45.444971, 6.920036 45.444083, 6.92214 45.441493, 6.921732 45.440138, 6.91921 45.437713, 6.916174 45.435741, 6.915831 45.433859, 6.915701 45.432067, 6.914092 45.430877, 6.912398 45.429567, 6.912054 45.428845, 6.910767 45.428423, 6.910209 45.4277, 6.910423 45.427038, 6.908664 45.425321, 6.906861 45.423603, 6.905509 45.42261, 6.903985 45.421586, 6.904544 45.420486, 6.904587 45.418784, 6.903986 45.41779, 6.9039 45.416254, 6.904393 45.414838, 6.9042 45.413301, 6.902741 45.411855, 6.90081 45.411524, 6.900123 45.410636, 6.90111 45.409476, 6.901003 45.408707, 6.900349 45.408564, 6.900064 45.409095, 6.899343 45.408773, 6.89742 45.408511, 6.893514 45.404624, 6.890639 45.403811, 6.889116 45.403374, 6.887592 45.402576, 6.886176 45.401822, 6.886262 45.400858, 6.886444 45.400128, 6.887142 45.4, 6.88652 45.399201, 6.885339 45.398297, 6.885704 45.397966, 6.88403 45.397318, 6.88227 45.396851))\")"
   ]
  },
  {
   "attachments": {},
   "cell_type": "markdown",
   "metadata": {},
   "source": [
    "* Paramétrer la ou les ressources utilisées (gazetier) : \n",
    "\n",
    "    * `nominatim` (par défaut): [OpenStreetMap](https://www.openstreetmap.org)\n",
    "    * `ign` : [GeoPortail](https://www.geoportail.gouv.fr)\n",
    "    * `geonames` : [Geonames](http://www.geonames.org)\n",
    "    * `whg`: [World Historical Gazetteer](https://whgazetteer.org)\n",
    "    * `pleiades`: [Pleiades](https://pleiades.stoa.org)"
   ]
  },
  {
   "cell_type": "code",
   "execution_count": null,
   "metadata": {},
   "outputs": [],
   "source": [
    "geoparser = Geoparser(sources=['ign'])\n",
    "doc = geoparser(text)\n",
    "doc.get_folium_map()"
   ]
  },
  {
   "attachments": {},
   "cell_type": "markdown",
   "metadata": {},
   "source": [
    "* L'objet `Perdido` a un attribut `geometry_layer` qui peut prendre la valeur d'une couche de géométrie à afficher sur la carte. Dans notre cas, on ajoute la géométrie de la trace GPS de la randonnées :"
   ]
  },
  {
   "cell_type": "code",
   "execution_count": null,
   "metadata": {},
   "outputs": [],
   "source": [
    "doc.geometry_layer = gpx_geom\n",
    "doc.get_folium_map()"
   ]
  },
  {
   "attachments": {},
   "cell_type": "markdown",
   "metadata": {},
   "source": [
    "* Paramétrer le nombre de résultats retournés pour chaque toponyme (par ressource), 1 par défaut :"
   ]
  },
  {
   "cell_type": "code",
   "execution_count": null,
   "metadata": {},
   "outputs": [],
   "source": [
    "geoparser = Geoparser(max_rows=10)\n",
    "doc = geoparser(text)\n",
    "doc.geometry_layer = gpx_geom\n",
    "doc.get_folium_map()"
   ]
  },
  {
   "attachments": {},
   "cell_type": "markdown",
   "metadata": {},
   "source": [
    "* Filtrer les résultats par pays (code pays) :"
   ]
  },
  {
   "cell_type": "code",
   "execution_count": null,
   "metadata": {},
   "outputs": [],
   "source": [
    "geoparser = Geoparser(max_rows=10, country_code = 'fr')\n",
    "doc = geoparser(text)\n",
    "doc.geometry_layer = gpx_geom\n",
    "doc.get_folium_map()"
   ]
  },
  {
   "attachments": {},
   "cell_type": "markdown",
   "metadata": {},
   "source": [
    "* Filtrer les résultats selon une zone géographique (bounding box: `east`,`south`,`west`,`north`) :"
   ]
  },
  {
   "cell_type": "code",
   "execution_count": null,
   "metadata": {},
   "outputs": [],
   "source": [
    "geoparser = Geoparser(max_rows=10, bbox = [5.62216508714297, 45.051683489057, 7.18563279407213, 45.9384576816403])\n",
    "doc = geoparser(text)\n",
    "doc.geometry_layer = gpx_geom\n",
    "doc.get_folium_map()"
   ]
  },
  {
   "attachments": {},
   "cell_type": "markdown",
   "metadata": {},
   "source": [
    "### 3.6 Désambiguïsation\n",
    "\n",
    "La librairie Perdido est toujours en cours de développement et d'amélioration dans le cadre de différents projet de recherche ([ANR CHOCUAS](), [GEODE]()), à l'heure actuelle une seule méthode de désambiguïsation automatique est disponible. Il s'agit d'une méthode de filtrage par clustering.\n"
   ]
  },
  {
   "attachments": {},
   "cell_type": "markdown",
   "metadata": {},
   "source": [
    "#### 3.6.1 Clustering par densité spatiale\n",
    "\n",
    "Le principe est de regrouper les résultats en utilisant un algorithme de clustering spatial (DBSCAN, *density-based spatial clustering of applications with noise*) et de selectionner le cluster qui contient le plus d'entités distinctes.\n",
    "\n",
    "> Moncla, L., Renteria-Agualimpia, W., Nogueras-Iso, J., & Gaio, M. (2014). Geocoding for texts with fine-grain toponyms: an experiment on a geoparsed hiking descriptions corpus. Proceedings of the 22nd ACM SIGSPATIAL International Conference on Advances in Geographic Information Systems, 183–192. Dallas, TX, USA: ACM. [https://doi.org/10.1145/2666310.2666386](https://doi.org/10.1145/2666310.2666386)\n",
    "\n",
    "La librairie Perdido utilise la méthode DBSCAN implémentée dans la librairie [Scikit-Learn](https://scikit-learn.org/stable/modules/generated/sklearn.cluster.DBSCAN.html). \n",
    "\n",
    "Cette stratégie est adaptée pour des textes où les différents lieux cités sont supposés être localisés à proximité les uns des autres (ex: descriptions de randonnées)."
   ]
  },
  {
   "cell_type": "code",
   "execution_count": null,
   "metadata": {},
   "outputs": [],
   "source": [
    "geoparser = Geoparser(sources=['ign'], max_rows=10, bbox = [5.62216508714297, 45.051683489057, 7.18563279407213, 45.9384576816403])\n",
    "doc = geoparser(text)\n",
    "\n",
    "doc.cluster_disambiguation()\n",
    "\n",
    "doc.geometry_layer = gpx_geom\n",
    "doc.get_folium_map()"
   ]
  },
  {
   "attachments": {},
   "cell_type": "markdown",
   "metadata": {},
   "source": [
    "## 4. Perdido Geocoder\n",
    "\n",
    "En plus de la classe Geoparser, la librairie Perdido propose aussi la classe Geocoder. Cette classe permet de geocoder un ou plusieurs toponymes. Les paramètres sont les mêmes que ceux utilisés avec le geoparser pour configuer l'étape de geocoding :\n",
    "* sources\n",
    "* max_row\n",
    "* country_code\n",
    "* bbox\n",
    "\n",
    "L'objet retourné est de type Perdido comme pour le Geoparser ce qui permet d'avoir accès aux mêmes attributs et méthodes que précédemment."
   ]
  },
  {
   "attachments": {},
   "cell_type": "markdown",
   "metadata": {},
   "source": [
    "### 4.1 Importer la librairie"
   ]
  },
  {
   "cell_type": "code",
   "execution_count": null,
   "metadata": {},
   "outputs": [],
   "source": [
    "from perdido.geocoder import Geocoder"
   ]
  },
  {
   "attachments": {},
   "cell_type": "markdown",
   "metadata": {},
   "source": [
    "### 4.2 Executer le geocoder"
   ]
  },
  {
   "attachments": {},
   "cell_type": "markdown",
   "metadata": {},
   "source": [
    "* Instancier le geocoder :"
   ]
  },
  {
   "cell_type": "code",
   "execution_count": null,
   "metadata": {},
   "outputs": [],
   "source": [
    "geocoder = Geocoder()"
   ]
  },
  {
   "attachments": {},
   "cell_type": "markdown",
   "metadata": {},
   "source": [
    "* Geocoder un nom de lieu :"
   ]
  },
  {
   "cell_type": "code",
   "execution_count": null,
   "metadata": {},
   "outputs": [],
   "source": [
    "doc = geocoder('Lyon')"
   ]
  },
  {
   "attachments": {},
   "cell_type": "markdown",
   "metadata": {},
   "source": [
    "* Geocoder une liste de noms de lieux :"
   ]
  },
  {
   "cell_type": "code",
   "execution_count": null,
   "metadata": {},
   "outputs": [],
   "source": [
    "doc = geocoder(['Lyon', 'Annecy', 'Chamonix'])"
   ]
  },
  {
   "attachments": {},
   "cell_type": "markdown",
   "metadata": {},
   "source": [
    "### 4.3 Visualiser les résultats"
   ]
  },
  {
   "attachments": {},
   "cell_type": "markdown",
   "metadata": {},
   "source": [
    "* Afficher le résultat GeoJSON :"
   ]
  },
  {
   "cell_type": "code",
   "execution_count": null,
   "metadata": {},
   "outputs": [],
   "source": [
    "print(doc.geojson)"
   ]
  },
  {
   "attachments": {},
   "cell_type": "markdown",
   "metadata": {},
   "source": [
    "* Afficher la liste des toponymes candidats :"
   ]
  },
  {
   "cell_type": "code",
   "execution_count": null,
   "metadata": {},
   "outputs": [],
   "source": [
    "for t in doc.toponyms: \n",
    "    print(f'lat: {t.lat}\\tlng: {t.lng}\\tsource {t.source}\\tsourceName {t.source_name}')"
   ]
  },
  {
   "attachments": {},
   "cell_type": "markdown",
   "metadata": {},
   "source": [
    "* Récupérer les toponymes candidats sous la forme d'un geodataframe :"
   ]
  },
  {
   "cell_type": "code",
   "execution_count": null,
   "metadata": {},
   "outputs": [],
   "source": [
    "doc.to_geodataframe()"
   ]
  },
  {
   "attachments": {},
   "cell_type": "markdown",
   "metadata": {},
   "source": [
    "* Afficher la carte des résultats"
   ]
  },
  {
   "cell_type": "code",
   "execution_count": null,
   "metadata": {},
   "outputs": [],
   "source": [
    "doc.get_folium_map()"
   ]
  },
  {
   "attachments": {},
   "cell_type": "markdown",
   "metadata": {},
   "source": [
    "## 5. Les jeux de données\n",
    "\n",
    "\n",
    "La libraire [Perdido](https://github.com/ludovicmoncla/perdido) embarque deux jeux de données : \n",
    " 1. des articles encyclopédiques (volume 7 de l'Encyclopédie de Diderot et d'Alembert (1751-1772)), fournit par l'[ARTFL](https://encyclopedie.uchicago.edu) dans le cadre du projet [GEODE](https://geode-project.github.io) ;\n",
    " 2. des descriptions de randonnées (chaque description est associée à sa trace GPS. Elles proviennent du site [www.visorando.fr](https://www.visorando.com) et ont été collectées dans le cadre du projet [ANR CHOUCAS](http://choucas.ign.fr).\n",
    "\n",
    "### 5.1 Articles encyclopédiques\n",
    "\n",
    "Le jeu de données des articles encyclopédiques est disponible dans la librairie en deux versions, une version \"brute\" (articles fournis par l'ARTFL) au format dataframe et une version déjà annotée par Perdido (format PerdidoCollection). \n",
    "\n",
    "%%Nous allons charger la version brute et voir comment manipuler un dataframe."
   ]
  },
  {
   "attachments": {},
   "cell_type": "markdown",
   "metadata": {},
   "source": [
    "#### 5.1.1 Corpus brut"
   ]
  },
  {
   "cell_type": "code",
   "execution_count": null,
   "metadata": {},
   "outputs": [],
   "source": [
    "from perdido.datasets import load_edda_artfl \n",
    "\n",
    "dataset_artfl = load_edda_artfl()\n",
    "data_artfl = dataset_artfl['data']\n",
    "data_artfl.head()"
   ]
  },
  {
   "cell_type": "code",
   "execution_count": null,
   "metadata": {},
   "outputs": [],
   "source": [
    "data_artfl.loc[data_artfl['head'] == 'FRONTIGNAN'].text.item()"
   ]
  },
  {
   "attachments": {},
   "cell_type": "markdown",
   "metadata": {},
   "source": [
    "#### 5.1.2 Corpus traité par Perdido"
   ]
  },
  {
   "cell_type": "code",
   "execution_count": null,
   "metadata": {},
   "outputs": [],
   "source": [
    "from perdido.datasets import load_edda_perdido\n",
    "\n",
    "dataset_perdido = load_edda_perdido()\n",
    "data_perdido = dataset_perdido['data']\n",
    "df = data_perdido.to_dataframe()\n",
    "df.head()"
   ]
  },
  {
   "cell_type": "code",
   "execution_count": null,
   "metadata": {},
   "outputs": [],
   "source": [
    "doc = data_perdido[0]\n",
    "displacy.render(doc.to_spacy_doc(), style=\"ent\", jupyter=True) \n"
   ]
  },
  {
   "attachments": {},
   "cell_type": "markdown",
   "metadata": {},
   "source": [
    "### 5.2 Descriptions de randonnées (traitées par Perdido)"
   ]
  },
  {
   "cell_type": "code",
   "execution_count": null,
   "metadata": {},
   "outputs": [],
   "source": [
    "from perdido.datasets import load_choucas_perdido\n",
    "\n",
    "dataset_choucas = load_choucas_perdido()\n",
    "data_choucas = dataset_choucas['data']\n",
    "\n",
    "df = data_choucas.to_dataframe()\n",
    "df.head()"
   ]
  },
  {
   "cell_type": "code",
   "execution_count": null,
   "metadata": {},
   "outputs": [],
   "source": [
    "doc = data_choucas[2]"
   ]
  },
  {
   "cell_type": "code",
   "execution_count": null,
   "metadata": {},
   "outputs": [],
   "source": [
    "doc.text"
   ]
  },
  {
   "cell_type": "code",
   "execution_count": null,
   "metadata": {},
   "outputs": [],
   "source": [
    "displacy.render(doc.to_spacy_doc(), style=\"ent\", jupyter=True) "
   ]
  },
  {
   "cell_type": "code",
   "execution_count": null,
   "metadata": {},
   "outputs": [],
   "source": [
    "doc.get_folium_map()"
   ]
  },
  {
   "attachments": {},
   "cell_type": "markdown",
   "metadata": {},
   "source": [
    "## 6. Pour aller plus loin\n",
    "\n",
    "1. Tutoriel (en français) Geoparsing : [https://github.com/ludovicmoncla/tutoriel-geoparsing](https://github.com/ludovicmoncla/tutoriel-geoparsing)\n",
    "2. Tutoriel (en français) présenté lors de l'atelier [Librairies Python et Services Web pour la reconnaissance d’entités nommées et la résolution de toponymes](https://anf-tdm-2022.sciencesconf.org/resource/page/id/11) de la formation CNRS [ANF TDM 2022](https://anf-tdm-2022.sciencesconf.org) : [https://gitlab.liris.cnrs.fr/lmoncla/tutoriel-anf-tdm-2022-python-geoparsing](https://gitlab.liris.cnrs.fr/lmoncla/tutoriel-anf-tdm-2022-python-geoparsing)\n",
    "3. Tutoriel (en anglais) utilisé pour le cours [SunoikisisDC](https://sunoikisisdc.github.io) Summer 2022 Course on [Natural Language Processing (NLP) for historical texts](https://github.com/SunoikisisDC/SunoikisisDC-2021-2022/wiki/SunoikisisDC-Summer-2022-Session-9) (Session 9)"
   ]
  }
 ],
 "metadata": {
  "colab": {
   "collapsed_sections": [],
   "name": "Geoparsing.ipynb",
   "provenance": [],
   "toc_visible": true
  },
  "kernelspec": {
   "display_name": "demo-perdido-egc-py39",
   "language": "python",
   "name": "python3"
  },
  "language_info": {
   "codemirror_mode": {
    "name": "ipython",
    "version": 3
   },
   "file_extension": ".py",
   "mimetype": "text/x-python",
   "name": "python",
   "nbconvert_exporter": "python",
   "pygments_lexer": "ipython3",
   "version": "3.9.13"
  },
  "vscode": {
   "interpreter": {
    "hash": "49781ad1735bc90a6de953cd911de16c38c0dc835751caa26878ae3207769e1b"
   }
  }
 },
 "nbformat": 4,
 "nbformat_minor": 2
}
